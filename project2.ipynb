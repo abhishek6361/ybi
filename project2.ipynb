{
  "nbformat": 4,
  "nbformat_minor": 0,
  "metadata": {
    "colab": {
      "provenance": [],
      "toc_visible": true,
      "authorship_tag": "ABX9TyOl/07bJESxHn5czGEnnZfg",
      "include_colab_link": true
    },
    "kernelspec": {
      "name": "python3",
      "display_name": "Python 3"
    },
    "language_info": {
      "name": "python"
    }
  },
  "cells": [
    {
      "cell_type": "markdown",
      "metadata": {
        "id": "view-in-github",
        "colab_type": "text"
      },
      "source": [
        "<a href=\"https://colab.research.google.com/github/abhishek6361/ybi/blob/main/project2.ipynb\" target=\"_parent\"><img src=\"https://colab.research.google.com/assets/colab-badge.svg\" alt=\"Open In Colab\"/></a>"
      ]
    },
    {
      "cell_type": "markdown",
      "source": [
        "\n",
        "\n",
        "```\n",
        "# This is formatted as code\n",
        "```\n",
        "\n"
      ],
      "metadata": {
        "id": "7ivI5FcqgS-r"
      }
    },
    {
      "cell_type": "markdown",
      "source": [
        "# Import necessary libraries (likely pandas, numpy, sklearn)"
      ],
      "metadata": {
        "id": "hmg1N-_ugWCc"
      }
    },
    {
      "cell_type": "code",
      "source": [
        "import pandas as pd\n",
        "import numpy as np\n",
        "from sklearn.preprocessing import StandardScaler\n",
        "from sklearn.model_selection import train_test_split\n",
        "from sklearn.svm import SVC\n",
        "from sklearn.model_selection import GridSearchCV\n",
        "from imblearn.under_sampling import RandomUnderSampler\n",
        "from imblearn.over_sampling import RandomOverSampler"
      ],
      "metadata": {
        "id": "cnFSOiYhgZno"
      },
      "execution_count": null,
      "outputs": []
    },
    {
      "cell_type": "markdown",
      "source": [
        "# Import data\n"
      ],
      "metadata": {
        "id": "kJm2zR4cgjGE"
      }
    },
    {
      "cell_type": "code",
      "source": [
        "data = pd.read_csv('bank_customer_churn_data.csv')"
      ],
      "metadata": {
        "id": "mmio3gXvg-HQ"
      },
      "execution_count": null,
      "outputs": []
    },
    {
      "cell_type": "markdown",
      "source": [
        "# Data Preparation\n"
      ],
      "metadata": {
        "id": "l3-YmvIphAke"
      }
    },
    {
      "cell_type": "code",
      "source": [
        "data.set_index('customer_id', inplace=True)"
      ],
      "metadata": {
        "id": "yxyk-LZuhOYc"
      },
      "execution_count": null,
      "outputs": []
    },
    {
      "cell_type": "markdown",
      "source": [
        "# Encoding"
      ],
      "metadata": {
        "id": "eXCQP4tthSrZ"
      }
    },
    {
      "cell_type": "code",
      "source": [
        "data['geography'] = data['geography'].map({'France': 2, 'Germany': 1, 'Spain': 0})\n",
        "data['gender'] = data['gender'].map({'Male': 0, 'Female': 1})\n",
        "data['zero_bank_balance'] = (data['balance'] == 0).astype(int)"
      ],
      "metadata": {
        "id": "uMhYkVIihWpi"
      },
      "execution_count": null,
      "outputs": []
    },
    {
      "cell_type": "markdown",
      "source": [
        "# Define features and label"
      ],
      "metadata": {
        "id": "CNyHUsRgiE8i"
      }
    },
    {
      "cell_type": "code",
      "source": [
        "features = data.drop(['surname', 'churn'], axis=1)\n",
        "label = data['churn']"
      ],
      "metadata": {
        "id": "QMMfHie6iI1t"
      },
      "execution_count": null,
      "outputs": []
    },
    {
      "cell_type": "markdown",
      "source": [
        "# Random Undersampling"
      ],
      "metadata": {
        "id": "e9m_6XCziXlK"
      }
    },
    {
      "cell_type": "code",
      "source": [
        "rus = RandomUnderSampler(random_state=42)\n",
        "X_rus, y_rus = rus.fit_resample(features, label)\n"
      ],
      "metadata": {
        "id": "wgtF49ysieCG"
      },
      "execution_count": null,
      "outputs": []
    },
    {
      "cell_type": "markdown",
      "source": [
        "# Random Oversampling"
      ],
      "metadata": {
        "id": "81HVQV53ijb4"
      }
    },
    {
      "cell_type": "code",
      "source": [
        "ros = RandomOverSampler(random_state=42)\n",
        "X_ros, y_ros = ros.fit_resample(features, label)"
      ],
      "metadata": {
        "id": "uXAR_PA0inWm"
      },
      "execution_count": null,
      "outputs": []
    },
    {
      "cell_type": "markdown",
      "source": [
        "# Train-test split"
      ],
      "metadata": {
        "id": "kxWayrdBir5v"
      }
    },
    {
      "cell_type": "code",
      "source": [
        "X_train, X_test, y_train, y_test = train_test_split(features, label, test_size=0.2, random_state=42)"
      ],
      "metadata": {
        "id": "umIEpQILiuQE"
      },
      "execution_count": null,
      "outputs": []
    },
    {
      "cell_type": "markdown",
      "source": [
        "# Standardize features"
      ],
      "metadata": {
        "id": "rGLp5xMoi9tz"
      }
    },
    {
      "cell_type": "code",
      "source": [
        "scaler = StandardScaler()\n",
        "X_train_scaled = scaler.fit_transform(X_train)\n",
        "X_test_scaled = scaler.transform(X_test)"
      ],
      "metadata": {
        "id": "lUPv_tEzjA2T"
      },
      "execution_count": null,
      "outputs": []
    },
    {
      "cell_type": "markdown",
      "source": [
        "# SVM with raw data"
      ],
      "metadata": {
        "id": "vMIF_wCFjJ1v"
      }
    },
    {
      "cell_type": "code",
      "source": [
        "svm_raw = SVC(random_state=42)\n",
        "svm_raw.fit(X_train_scaled, y_train)\n",
        "accuracy_raw = svm_raw.score(X_test_scaled, y_test)\n",
        "print(f\"Accuracy with raw data: {accuracy_raw}\")"
      ],
      "metadata": {
        "id": "8-i5g9n1jKbg"
      },
      "execution_count": null,
      "outputs": []
    },
    {
      "cell_type": "markdown",
      "source": [
        "# SVM with undersampled data"
      ],
      "metadata": {
        "id": "GlWvYPtgjSL2"
      }
    },
    {
      "cell_type": "code",
      "source": [
        "svm_rus = SVC(random_state=42)\n",
        "svm_rus.fit(X_rus, y_rus)\n",
        "accuracy_rus = svm_rus.score(X_test_scaled, y_test)\n",
        "print(f\"Accuracy with undersampled data: {accuracy_rus}\")"
      ],
      "metadata": {
        "id": "qoyIXkt3jVME"
      },
      "execution_count": null,
      "outputs": []
    },
    {
      "cell_type": "markdown",
      "source": [
        "# SVM with oversampled data"
      ],
      "metadata": {
        "id": "BxQCtlB5jXmt"
      }
    },
    {
      "cell_type": "code",
      "source": [
        "svm_ros = SVC(random_state=42)\n",
        "svm_ros.fit(X_ros, y_ros)\n",
        "accuracy_ros = svm_ros.score(X_test_scaled, y_test)\n",
        "print(f\"Accuracy with oversampled data: {accuracy_ros}\")"
      ],
      "metadata": {
        "id": "CSegnRp8ja3n"
      },
      "execution_count": null,
      "outputs": []
    },
    {
      "cell_type": "markdown",
      "source": [
        "# Example of hyperparameter tuning using GridSearchCV"
      ],
      "metadata": {
        "id": "cM_efdbWjiCJ"
      }
    },
    {
      "cell_type": "code",
      "source": [
        "param_grid = {\n",
        "    'C': [0.1, 1, 10, 100],\n",
        "    'gamma': [1, 0.1, 0.01, 0.001],\n",
        "    'kernel': ['rbf', 'poly', 'sigmoid']\n",
        "}\n",
        "\n",
        "grid_search = GridSearchCV(SVC(random_state=42), param_grid, cv=5)\n",
        "grid_search.fit(X_train_scaled, y_train)\n",
        "\n",
        "best_model = grid_search.best_estimator_\n",
        "best_accuracy = best_model.score(X_test_scaled, y_test)\n",
        "print(f\"Best model accuracy: {best_accuracy}\")\n",
        "print(f\"Best parameters: {grid_search.best_params_}\")"
      ],
      "metadata": {
        "id": "_ZBI0yTJjioP"
      },
      "execution_count": null,
      "outputs": []
    },
    {
      "cell_type": "code",
      "source": [
        "from google.colab import drive\n",
        "drive.mount('/content/drive')"
      ],
      "metadata": {
        "id": "hLocpcZgkNt-"
      },
      "execution_count": null,
      "outputs": []
    }
  ]
}